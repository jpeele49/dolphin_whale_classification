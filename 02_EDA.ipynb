{
 "cells": [
  {
   "cell_type": "code",
   "execution_count": 1,
   "id": "58817dc5-079d-48d6-a953-d99b38cca1be",
   "metadata": {},
   "outputs": [],
   "source": [
    "import numpy as np\n",
    "import pandas as pd\n",
    "import json\n",
    "import requests\n",
    "import sys\n",
    "import os\n",
    "sys.tracebacklimit = 0 # turn off the long tracebacks on error messages\n",
    "#sys.tracebacklimit = None # use to turn tracebacks back on if needed"
   ]
  },
  {
   "cell_type": "code",
   "execution_count": 2,
   "id": "89bf5ac0-b992-4191-9ecf-d370760a854b",
   "metadata": {},
   "outputs": [],
   "source": [
    "data_df = pd.read_csv('train.csv')"
   ]
  },
  {
   "cell_type": "code",
   "execution_count": 3,
   "id": "c6df6e71-2488-46e1-9765-d3957374fcab",
   "metadata": {},
   "outputs": [],
   "source": [
    "data_df = pd.DataFrame(data_df)"
   ]
  },
  {
   "cell_type": "code",
   "execution_count": 4,
   "id": "23e3e637-0343-4a33-92c5-66ae10073555",
   "metadata": {},
   "outputs": [
    {
     "data": {
      "text/plain": [
       "(51033, 3)"
      ]
     },
     "execution_count": 4,
     "metadata": {},
     "output_type": "execute_result"
    }
   ],
   "source": [
    "data_df.shape"
   ]
  },
  {
   "cell_type": "code",
   "execution_count": 5,
   "id": "3eb587b6-9241-4a0d-8d63-fc565247faf7",
   "metadata": {},
   "outputs": [
    {
     "data": {
      "text/plain": [
       "pandas.core.frame.DataFrame"
      ]
     },
     "execution_count": 5,
     "metadata": {},
     "output_type": "execute_result"
    }
   ],
   "source": [
    "type(data_df)"
   ]
  },
  {
   "cell_type": "code",
   "execution_count": 22,
   "id": "f63d5dee-afd8-4301-8fe0-80537cd0cc4b",
   "metadata": {},
   "outputs": [
    {
     "data": {
      "text/html": [
       "<div>\n",
       "<style scoped>\n",
       "    .dataframe tbody tr th:only-of-type {\n",
       "        vertical-align: middle;\n",
       "    }\n",
       "\n",
       "    .dataframe tbody tr th {\n",
       "        vertical-align: top;\n",
       "    }\n",
       "\n",
       "    .dataframe thead th {\n",
       "        text-align: right;\n",
       "    }\n",
       "</style>\n",
       "<table border=\"1\" class=\"dataframe\">\n",
       "  <thead>\n",
       "    <tr style=\"text-align: right;\">\n",
       "      <th></th>\n",
       "      <th>image</th>\n",
       "      <th>species</th>\n",
       "      <th>individual_id</th>\n",
       "    </tr>\n",
       "  </thead>\n",
       "  <tbody>\n",
       "    <tr>\n",
       "      <th>2064</th>\n",
       "      <td>0a83ebfa98e751.jpg</td>\n",
       "      <td>fin_whale</td>\n",
       "      <td>26c9084d9e34</td>\n",
       "    </tr>\n",
       "  </tbody>\n",
       "</table>\n",
       "</div>"
      ],
      "text/plain": [
       "                   image    species individual_id\n",
       "2064  0a83ebfa98e751.jpg  fin_whale  26c9084d9e34"
      ]
     },
     "execution_count": 22,
     "metadata": {},
     "output_type": "execute_result"
    }
   ],
   "source": [
    "data_df[data_df.image.str.contains('0a83ebfa98e751.jpg')]\n",
    "# 4b5e31f0034c9a2"
   ]
  },
  {
   "cell_type": "code",
   "execution_count": 14,
   "id": "bac0f23f-3a31-4a33-9099-25ea6c42cc6b",
   "metadata": {},
   "outputs": [
    {
     "name": "stdout",
     "output_type": "stream",
     "text": [
      "match\n"
     ]
    }
   ],
   "source": [
    "# will append 2,3 to image name when yolov5 model outputs multiple boxes\n",
    "\n",
    "if data_df['image'].str.contains('4b5e31f0034', regex=False).any():\n",
    "    print('match')"
   ]
  },
  {
   "cell_type": "code",
   "execution_count": 4,
   "id": "0040af0a-9bae-43af-813c-e77b7e29f388",
   "metadata": {
    "tags": []
   },
   "outputs": [],
   "source": [
    "species = pd.DataFrame(data_df.groupby('species').count())"
   ]
  },
  {
   "cell_type": "code",
   "execution_count": 5,
   "id": "7f93ff65-c804-4c83-a50d-5f9466e31c38",
   "metadata": {},
   "outputs": [
    {
     "data": {
      "text/plain": [
       "(30, 2)"
      ]
     },
     "execution_count": 5,
     "metadata": {},
     "output_type": "execute_result"
    }
   ],
   "source": [
    "species.shape"
   ]
  },
  {
   "cell_type": "code",
   "execution_count": 6,
   "id": "9742b761-cb77-4c4f-b102-53ba218d8830",
   "metadata": {},
   "outputs": [
    {
     "data": {
      "text/html": [
       "<div>\n",
       "<style scoped>\n",
       "    .dataframe tbody tr th:only-of-type {\n",
       "        vertical-align: middle;\n",
       "    }\n",
       "\n",
       "    .dataframe tbody tr th {\n",
       "        vertical-align: top;\n",
       "    }\n",
       "\n",
       "    .dataframe thead th {\n",
       "        text-align: right;\n",
       "    }\n",
       "</style>\n",
       "<table border=\"1\" class=\"dataframe\">\n",
       "  <thead>\n",
       "    <tr style=\"text-align: right;\">\n",
       "      <th></th>\n",
       "      <th>image</th>\n",
       "      <th>individual_id</th>\n",
       "    </tr>\n",
       "    <tr>\n",
       "      <th>species</th>\n",
       "      <th></th>\n",
       "      <th></th>\n",
       "    </tr>\n",
       "  </thead>\n",
       "  <tbody>\n",
       "    <tr>\n",
       "      <th>beluga</th>\n",
       "      <td>7443</td>\n",
       "      <td>7443</td>\n",
       "    </tr>\n",
       "    <tr>\n",
       "      <th>blue_whale</th>\n",
       "      <td>4830</td>\n",
       "      <td>4830</td>\n",
       "    </tr>\n",
       "    <tr>\n",
       "      <th>bottlenose_dolphin</th>\n",
       "      <td>9664</td>\n",
       "      <td>9664</td>\n",
       "    </tr>\n",
       "    <tr>\n",
       "      <th>bottlenose_dolpin</th>\n",
       "      <td>1117</td>\n",
       "      <td>1117</td>\n",
       "    </tr>\n",
       "    <tr>\n",
       "      <th>brydes_whale</th>\n",
       "      <td>154</td>\n",
       "      <td>154</td>\n",
       "    </tr>\n",
       "    <tr>\n",
       "      <th>commersons_dolphin</th>\n",
       "      <td>90</td>\n",
       "      <td>90</td>\n",
       "    </tr>\n",
       "    <tr>\n",
       "      <th>common_dolphin</th>\n",
       "      <td>347</td>\n",
       "      <td>347</td>\n",
       "    </tr>\n",
       "    <tr>\n",
       "      <th>cuviers_beaked_whale</th>\n",
       "      <td>341</td>\n",
       "      <td>341</td>\n",
       "    </tr>\n",
       "    <tr>\n",
       "      <th>dusky_dolphin</th>\n",
       "      <td>3139</td>\n",
       "      <td>3139</td>\n",
       "    </tr>\n",
       "    <tr>\n",
       "      <th>false_killer_whale</th>\n",
       "      <td>3326</td>\n",
       "      <td>3326</td>\n",
       "    </tr>\n",
       "    <tr>\n",
       "      <th>fin_whale</th>\n",
       "      <td>1324</td>\n",
       "      <td>1324</td>\n",
       "    </tr>\n",
       "    <tr>\n",
       "      <th>frasiers_dolphin</th>\n",
       "      <td>14</td>\n",
       "      <td>14</td>\n",
       "    </tr>\n",
       "    <tr>\n",
       "      <th>globis</th>\n",
       "      <td>116</td>\n",
       "      <td>116</td>\n",
       "    </tr>\n",
       "    <tr>\n",
       "      <th>gray_whale</th>\n",
       "      <td>1123</td>\n",
       "      <td>1123</td>\n",
       "    </tr>\n",
       "    <tr>\n",
       "      <th>humpback_whale</th>\n",
       "      <td>7392</td>\n",
       "      <td>7392</td>\n",
       "    </tr>\n",
       "    <tr>\n",
       "      <th>kiler_whale</th>\n",
       "      <td>962</td>\n",
       "      <td>962</td>\n",
       "    </tr>\n",
       "    <tr>\n",
       "      <th>killer_whale</th>\n",
       "      <td>1493</td>\n",
       "      <td>1493</td>\n",
       "    </tr>\n",
       "    <tr>\n",
       "      <th>long_finned_pilot_whale</th>\n",
       "      <td>238</td>\n",
       "      <td>238</td>\n",
       "    </tr>\n",
       "    <tr>\n",
       "      <th>melon_headed_whale</th>\n",
       "      <td>1689</td>\n",
       "      <td>1689</td>\n",
       "    </tr>\n",
       "    <tr>\n",
       "      <th>minke_whale</th>\n",
       "      <td>1608</td>\n",
       "      <td>1608</td>\n",
       "    </tr>\n",
       "    <tr>\n",
       "      <th>pantropic_spotted_dolphin</th>\n",
       "      <td>145</td>\n",
       "      <td>145</td>\n",
       "    </tr>\n",
       "    <tr>\n",
       "      <th>pilot_whale</th>\n",
       "      <td>262</td>\n",
       "      <td>262</td>\n",
       "    </tr>\n",
       "    <tr>\n",
       "      <th>pygmy_killer_whale</th>\n",
       "      <td>76</td>\n",
       "      <td>76</td>\n",
       "    </tr>\n",
       "    <tr>\n",
       "      <th>rough_toothed_dolphin</th>\n",
       "      <td>60</td>\n",
       "      <td>60</td>\n",
       "    </tr>\n",
       "    <tr>\n",
       "      <th>sei_whale</th>\n",
       "      <td>428</td>\n",
       "      <td>428</td>\n",
       "    </tr>\n",
       "    <tr>\n",
       "      <th>short_finned_pilot_whale</th>\n",
       "      <td>367</td>\n",
       "      <td>367</td>\n",
       "    </tr>\n",
       "    <tr>\n",
       "      <th>southern_right_whale</th>\n",
       "      <td>866</td>\n",
       "      <td>866</td>\n",
       "    </tr>\n",
       "    <tr>\n",
       "      <th>spinner_dolphin</th>\n",
       "      <td>1700</td>\n",
       "      <td>1700</td>\n",
       "    </tr>\n",
       "    <tr>\n",
       "      <th>spotted_dolphin</th>\n",
       "      <td>490</td>\n",
       "      <td>490</td>\n",
       "    </tr>\n",
       "    <tr>\n",
       "      <th>white_sided_dolphin</th>\n",
       "      <td>229</td>\n",
       "      <td>229</td>\n",
       "    </tr>\n",
       "  </tbody>\n",
       "</table>\n",
       "</div>"
      ],
      "text/plain": [
       "                           image  individual_id\n",
       "species                                        \n",
       "beluga                      7443           7443\n",
       "blue_whale                  4830           4830\n",
       "bottlenose_dolphin          9664           9664\n",
       "bottlenose_dolpin           1117           1117\n",
       "brydes_whale                 154            154\n",
       "commersons_dolphin            90             90\n",
       "common_dolphin               347            347\n",
       "cuviers_beaked_whale         341            341\n",
       "dusky_dolphin               3139           3139\n",
       "false_killer_whale          3326           3326\n",
       "fin_whale                   1324           1324\n",
       "frasiers_dolphin              14             14\n",
       "globis                       116            116\n",
       "gray_whale                  1123           1123\n",
       "humpback_whale              7392           7392\n",
       "kiler_whale                  962            962\n",
       "killer_whale                1493           1493\n",
       "long_finned_pilot_whale      238            238\n",
       "melon_headed_whale          1689           1689\n",
       "minke_whale                 1608           1608\n",
       "pantropic_spotted_dolphin    145            145\n",
       "pilot_whale                  262            262\n",
       "pygmy_killer_whale            76             76\n",
       "rough_toothed_dolphin         60             60\n",
       "sei_whale                    428            428\n",
       "short_finned_pilot_whale     367            367\n",
       "southern_right_whale         866            866\n",
       "spinner_dolphin             1700           1700\n",
       "spotted_dolphin              490            490\n",
       "white_sided_dolphin          229            229"
      ]
     },
     "execution_count": 6,
     "metadata": {},
     "output_type": "execute_result"
    }
   ],
   "source": [
    "species"
   ]
  },
  {
   "cell_type": "code",
   "execution_count": null,
   "id": "279503ce-1b77-4227-a1b5-5cffe856078f",
   "metadata": {},
   "outputs": [],
   "source": []
  }
 ],
 "metadata": {
  "kernelspec": {
   "display_name": "Python 3",
   "language": "python",
   "name": "python3"
  },
  "language_info": {
   "codemirror_mode": {
    "name": "ipython",
    "version": 3
   },
   "file_extension": ".py",
   "mimetype": "text/x-python",
   "name": "python",
   "nbconvert_exporter": "python",
   "pygments_lexer": "ipython3",
   "version": "3.8.8"
  }
 },
 "nbformat": 4,
 "nbformat_minor": 5
}
