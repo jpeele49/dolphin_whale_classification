{
 "cells": [
  {
   "cell_type": "code",
   "execution_count": 1,
   "id": "7ed20894-1f71-410f-86de-8e5b16236699",
   "metadata": {},
   "outputs": [
    {
     "name": "stdout",
     "output_type": "stream",
     "text": [
      "Setup complete. Using torch 1.11.0 (CPU)\n"
     ]
    }
   ],
   "source": [
    "import torch\n",
    "import os\n",
    "from IPython.display import Image, clear_output  # to display images\n",
    "\n",
    "print(f\"Setup complete. Using torch {torch.__version__} ({torch.cuda.get_device_properties(0).name if torch.cuda.is_available() else 'CPU'})\")"
   ]
  },
  {
   "cell_type": "code",
   "execution_count": 2,
   "id": "1c9ce2b8-f1ff-4270-8d88-f9ab440f2c1a",
   "metadata": {},
   "outputs": [
    {
     "name": "stdout",
     "output_type": "stream",
     "text": [
      "path: '../Data Science/DS 6050/final_project/dolphin_whale_classification/datasets  # dataset root dir'\n",
      "train: 'images/train  # train images (relative to path) 128 images'\n",
      "val: 'images/val  # val images (relative to path) 128 images'\n",
      "test: ' # test images (optional)'\n",
      "nc: 1\n",
      "names:\n",
      "- fin\n"
     ]
    }
   ],
   "source": [
    "%cat datasets/data.yaml"
   ]
  },
  {
   "cell_type": "code",
   "execution_count": 3,
   "id": "c6e4a400-6c52-477a-83de-4dd786b703ad",
   "metadata": {},
   "outputs": [],
   "source": [
    "# manually updated path, training path, validation path\n",
    "# loaded 105 images, 80/20 training/validation split"
   ]
  },
  {
   "cell_type": "code",
   "execution_count": 4,
   "id": "3d8021ac-1ccf-4b5c-941d-10eb36410f3a",
   "metadata": {},
   "outputs": [
    {
     "data": {
      "text/plain": [
       "'/Users/jackpeele/Documents/Data Science/DS 6050/final_project/dolphin_whale_classification'"
      ]
     },
     "execution_count": 4,
     "metadata": {},
     "output_type": "execute_result"
    }
   ],
   "source": [
    "os.getcwd()"
   ]
  },
  {
   "cell_type": "code",
   "execution_count": 5,
   "id": "496b29d6-c8ca-42e7-a031-b1b8f6f8b270",
   "metadata": {},
   "outputs": [],
   "source": [
    "os.chdir('yolov5/')"
   ]
  },
  {
   "cell_type": "code",
   "execution_count": 6,
   "id": "183d3e99-b502-41ae-a6db-a0bd92af86ff",
   "metadata": {},
   "outputs": [
    {
     "data": {
      "text/plain": [
       "'/Users/jackpeele/Documents/Data Science/DS 6050/final_project/dolphin_whale_classification/yolov5'"
      ]
     },
     "execution_count": 6,
     "metadata": {},
     "output_type": "execute_result"
    }
   ],
   "source": [
    "os.getcwd()"
   ]
  },
  {
   "cell_type": "code",
   "execution_count": 8,
   "id": "299ca02f-3580-4f57-a8a0-e70a6bf4019b",
   "metadata": {},
   "outputs": [
    {
     "name": "stdout",
     "output_type": "stream",
     "text": [
      "\u001b[34m\u001b[1mtrain: \u001b[0mweights=yolov5s.pt, cfg=, data=../datasets/data.yaml, hyp=data/hyps/hyp.scratch-low.yaml, epochs=300, batch_size=16, imgsz=640, rect=False, resume=False, nosave=False, noval=False, noautoanchor=False, noplots=False, evolve=None, bucket=, cache=ram, image_weights=False, device=, multi_scale=False, single_cls=False, optimizer=SGD, sync_bn=False, workers=8, project=runs/train, name=exp, exist_ok=False, quad=False, cos_lr=False, label_smoothing=0.0, patience=100, freeze=[0], save_period=-1, local_rank=-1, entity=None, upload_dataset=False, bbox_interval=-1, artifact_alias=latest\n",
      "\u001b[34m\u001b[1mgithub: \u001b[0mup to date with https://github.com/ultralytics/yolov5 ✅\n",
      "fatal: cannot change to '/Users/jackpeele/Documents/Data': No such file or directory\n",
      "YOLOv5 🚀 2022-4-26 torch 1.11.0 CPU\n",
      "\n",
      "\u001b[34m\u001b[1mhyperparameters: \u001b[0mlr0=0.01, lrf=0.01, momentum=0.937, weight_decay=0.0005, warmup_epochs=3.0, warmup_momentum=0.8, warmup_bias_lr=0.1, box=0.05, cls=0.5, cls_pw=1.0, obj=1.0, obj_pw=1.0, iou_t=0.2, anchor_t=4.0, fl_gamma=0.0, hsv_h=0.015, hsv_s=0.7, hsv_v=0.4, degrees=0.0, translate=0.1, scale=0.5, shear=0.0, perspective=0.0, flipud=0.0, fliplr=0.5, mosaic=1.0, mixup=0.0, copy_paste=0.0\n",
      "\u001b[34m\u001b[1mWeights & Biases: \u001b[0mrun 'pip install wandb' to automatically track and visualize YOLOv5 🚀 runs (RECOMMENDED)\n",
      "\u001b[34m\u001b[1mTensorBoard: \u001b[0mStart with 'tensorboard --logdir runs/train', view at http://localhost:6006/\n",
      "\n",
      "Dataset not found ⚠️, missing paths ['/Users/jackpeele/Documents/Data Science/DS 6050/final_project/dolphin_whale_classification/datasets  # dataset root dir/images/val  # val images (relative to path) 128 images']\n",
      "Traceback (most recent call last):\n",
      "  File \"train.py\", line 668, in <module>\n",
      "    main(opt)\n",
      "  File \"train.py\", line 563, in main\n",
      "    train(opt.hyp, opt, device, callbacks)\n",
      "  File \"train.py\", line 107, in train\n",
      "    data_dict = data_dict or check_dataset(data)  # check if None\n",
      "  File \"/Users/jackpeele/Documents/Data Science/DS 6050/final_project/dolphin_whale_classification/yolov5/utils/general.py\", line 491, in check_dataset\n",
      "    raise Exception(emojis('Dataset not found ❌'))\n",
      "Exception: Dataset not found ❌\n"
     ]
    }
   ],
   "source": [
    "!python train.py --data '../datasets/data.yaml' --weights yolov5s.pt --cache"
   ]
  },
  {
   "cell_type": "code",
   "execution_count": null,
   "id": "c967ef98-427d-4b4d-96e9-715731aadad5",
   "metadata": {},
   "outputs": [],
   "source": []
  }
 ],
 "metadata": {
  "kernelspec": {
   "display_name": "Python 3",
   "language": "python",
   "name": "python3"
  },
  "language_info": {
   "codemirror_mode": {
    "name": "ipython",
    "version": 3
   },
   "file_extension": ".py",
   "mimetype": "text/x-python",
   "name": "python",
   "nbconvert_exporter": "python",
   "pygments_lexer": "ipython3",
   "version": "3.8.8"
  }
 },
 "nbformat": 4,
 "nbformat_minor": 5
}
