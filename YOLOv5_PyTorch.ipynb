{
 "cells": [
  {
   "cell_type": "code",
   "execution_count": 1,
   "id": "7ed20894-1f71-410f-86de-8e5b16236699",
   "metadata": {},
   "outputs": [
    {
     "name": "stdout",
     "output_type": "stream",
     "text": [
      "Setup complete. Using torch 1.11.0 (CPU)\n"
     ]
    }
   ],
   "source": [
    "import torch\n",
    "import os\n",
    "from IPython.display import Image, clear_output  # to display images\n",
    "\n",
    "print(f\"Setup complete. Using torch {torch.__version__} ({torch.cuda.get_device_properties(0).name if torch.cuda.is_available() else 'CPU'})\")"
   ]
  },
  {
   "cell_type": "code",
   "execution_count": 2,
   "id": "1c9ce2b8-f1ff-4270-8d88-f9ab440f2c1a",
   "metadata": {},
   "outputs": [
    {
     "name": "stdout",
     "output_type": "stream",
     "text": [
      "path: '../datasets/data  # dataset root dir'\n",
      "train: 'images/train  # train images (relative to path) 128 images'\n",
      "val: 'images/val  # val images (relative to path) 128 images'\n",
      "test: ' # test images (optional)'\n",
      "nc: 1\n",
      "names:\n",
      "- fin\n"
     ]
    }
   ],
   "source": [
    "%cat data/data.yaml"
   ]
  },
  {
   "cell_type": "code",
   "execution_count": 6,
   "id": "c6e4a400-6c52-477a-83de-4dd786b703ad",
   "metadata": {},
   "outputs": [],
   "source": [
    "# manually updated path, training path, validation path\n",
    "# loaded 105 images, 80/20 training/validation split"
   ]
  },
  {
   "cell_type": "code",
   "execution_count": null,
   "id": "3d8021ac-1ccf-4b5c-941d-10eb36410f3a",
   "metadata": {},
   "outputs": [],
   "source": []
  }
 ],
 "metadata": {
  "kernelspec": {
   "display_name": "Python 3 (ipykernel)",
   "language": "python",
   "name": "python3"
  },
  "language_info": {
   "codemirror_mode": {
    "name": "ipython",
    "version": 3
   },
   "file_extension": ".py",
   "mimetype": "text/x-python",
   "name": "python",
   "nbconvert_exporter": "python",
   "pygments_lexer": "ipython3",
   "version": "3.9.7"
  }
 },
 "nbformat": 4,
 "nbformat_minor": 5
}
