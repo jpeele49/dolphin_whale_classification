{
 "cells": [
  {
   "cell_type": "markdown",
   "id": "337a4919-7426-425d-80ef-f50085ac1221",
   "metadata": {},
   "source": [
    "## Loading Labeled Data\n",
    "1. Read in the JSON file from the LabelBox website\n",
    "2. Use JSON2YOLO GitHub repository to convert the JSON output to YOLOv5 format\n",
    "3. Run .convert() function to output training materials"
   ]
  },
  {
   "cell_type": "code",
   "execution_count": 18,
   "id": "d8146f64-8b66-4e0c-80c1-f31e1ee76862",
   "metadata": {},
   "outputs": [],
   "source": [
    "import numpy as np\n",
    "import pandas as pd\n",
    "import json\n",
    "import requests\n",
    "import sys\n",
    "import os"
   ]
  },
  {
   "cell_type": "code",
   "execution_count": 19,
   "id": "4622a77a-f910-4674-b52d-07fec98c7afd",
   "metadata": {},
   "outputs": [],
   "source": [
    "os.chdir('JSON2YOLO')"
   ]
  },
  {
   "cell_type": "code",
   "execution_count": 20,
   "id": "e32c3769-8f67-4724-ad2f-38b022644920",
   "metadata": {},
   "outputs": [],
   "source": [
    "import utils\n",
    "import labelbox_json2yolo"
   ]
  },
  {
   "cell_type": "code",
   "execution_count": 21,
   "id": "2d7391f8-6a6d-4d0c-b4e8-97c00609f138",
   "metadata": {},
   "outputs": [],
   "source": [
    "os.chdir('../')"
   ]
  },
  {
   "cell_type": "code",
   "execution_count": 22,
   "id": "b93782fa-0d73-49f0-af97-a9fa4d0b153e",
   "metadata": {},
   "outputs": [],
   "source": [
    "file_name = 'data.json'"
   ]
  },
  {
   "cell_type": "code",
   "execution_count": 23,
   "id": "891ea5aa-1de2-42e3-8d14-59bc403e9f2c",
   "metadata": {},
   "outputs": [],
   "source": [
    "f = open(file_name)"
   ]
  },
  {
   "cell_type": "code",
   "execution_count": 24,
   "id": "df3a67f6-fd93-43ca-8732-1ecef5cbf44d",
   "metadata": {},
   "outputs": [],
   "source": [
    "data = json.load(f)"
   ]
  },
  {
   "cell_type": "code",
   "execution_count": 25,
   "id": "9ed101b5-4e2d-45fa-8662-69f544b24b28",
   "metadata": {
    "tags": []
   },
   "outputs": [
    {
     "name": "stderr",
     "output_type": "stream",
     "text": [
      "Converting data.json: 100%|██████████| 105/105 [00:43<00:00,  2.39it/s]\n"
     ]
    },
    {
     "name": "stdout",
     "output_type": "stream",
     "text": [
      "Zipping as data.zip...\n",
      "Conversion completed successfully!\n"
     ]
    }
   ],
   "source": [
    "yolo_data = labelbox_json2yolo.convert(file_name)"
   ]
  }
 ],
 "metadata": {
  "kernelspec": {
   "display_name": "Python 3",
   "language": "python",
   "name": "python3"
  },
  "language_info": {
   "codemirror_mode": {
    "name": "ipython",
    "version": 3
   },
   "file_extension": ".py",
   "mimetype": "text/x-python",
   "name": "python",
   "nbconvert_exporter": "python",
   "pygments_lexer": "ipython3",
   "version": "3.8.8"
  }
 },
 "nbformat": 4,
 "nbformat_minor": 5
}
