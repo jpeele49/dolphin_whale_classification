{
 "cells": [
  {
   "cell_type": "code",
   "execution_count": 1,
   "id": "7ed20894-1f71-410f-86de-8e5b16236699",
   "metadata": {},
   "outputs": [
    {
     "name": "stdout",
     "output_type": "stream",
     "text": [
      "Setup complete. Using torch 1.11.0 (CPU)\n"
     ]
    }
   ],
   "source": [
    "import torch\n",
    "import os\n",
    "from IPython.display import Image, clear_output  # to display images\n",
    "\n",
    "print(f\"Setup complete. Using torch {torch.__version__} ({torch.cuda.get_device_properties(0).name if torch.cuda.is_available() else 'CPU'})\")"
   ]
  },
  {
   "cell_type": "code",
   "execution_count": 3,
   "id": "1c9ce2b8-f1ff-4270-8d88-f9ab440f2c1a",
   "metadata": {},
   "outputs": [
    {
     "name": "stdout",
     "output_type": "stream",
     "text": [
      "path: '../datasets/data  # dataset root dir'\n",
      "train: 'images/train  # train images (relative to path) 128 images'\n",
      "val: 'images/val  # val images (relative to path) 128 images'\n",
      "test: ' # test images (optional)'\n",
      "nc: 1\n",
      "names:\n",
      "- fin\n"
     ]
    }
   ],
   "source": [
    "%cat data/data.yaml"
   ]
  },
  {
   "cell_type": "code",
   "execution_count": 4,
   "id": "c6e4a400-6c52-477a-83de-4dd786b703ad",
   "metadata": {},
   "outputs": [],
   "source": [
    "# manually updated path, training path, validation path\n",
    "# loaded 105 images, 80/20 training/validation split"
   ]
  },
  {
   "cell_type": "code",
   "execution_count": 3,
   "id": "3d8021ac-1ccf-4b5c-941d-10eb36410f3a",
   "metadata": {},
   "outputs": [
    {
     "data": {
      "text/plain": [
       "'/Users/jackpeele/Documents/Data Science/DS 6050/final_project/dolphin_whale_classification'"
      ]
     },
     "execution_count": 3,
     "metadata": {},
     "output_type": "execute_result"
    }
   ],
   "source": [
    "os.getcwd()"
   ]
  },
  {
   "cell_type": "code",
   "execution_count": 4,
   "id": "496b29d6-c8ca-42e7-a031-b1b8f6f8b270",
   "metadata": {},
   "outputs": [],
   "source": [
    "os.chdir('yolov5')"
   ]
  },
  {
   "cell_type": "code",
   "execution_count": 9,
   "id": "183d3e99-b502-41ae-a6db-a0bd92af86ff",
   "metadata": {},
   "outputs": [
    {
     "data": {
      "text/plain": [
       "'/Users/jackpeele/Documents/Data Science/DS 6050/final_project/dolphin_whale_classification/yolov5'"
      ]
     },
     "execution_count": 9,
     "metadata": {},
     "output_type": "execute_result"
    }
   ],
   "source": [
    "os.getcwd()"
   ]
  },
  {
   "cell_type": "code",
   "execution_count": 12,
   "id": "299ca02f-3580-4f57-a8a0-e70a6bf4019b",
   "metadata": {},
   "outputs": [
    {
     "name": "stdout",
     "output_type": "stream",
     "text": [
      "usage: train.py [-h] [--weights WEIGHTS] [--cfg CFG] [--data DATA] [--hyp HYP]\n",
      "                [--epochs EPOCHS] [--batch-size BATCH_SIZE] [--imgsz IMGSZ]\n",
      "                [--rect] [--resume [RESUME]] [--nosave] [--noval]\n",
      "                [--noautoanchor] [--noplots] [--evolve [EVOLVE]]\n",
      "                [--bucket BUCKET] [--cache [CACHE]] [--image-weights]\n",
      "                [--device DEVICE] [--multi-scale] [--single-cls]\n",
      "                [--optimizer {SGD,Adam,AdamW}] [--sync-bn] [--workers WORKERS]\n",
      "                [--project PROJECT] [--name NAME] [--exist-ok] [--quad]\n",
      "                [--cos-lr] [--label-smoothing LABEL_SMOOTHING]\n",
      "                [--patience PATIENCE] [--freeze FREEZE [FREEZE ...]]\n",
      "                [--save-period SAVE_PERIOD] [--local_rank LOCAL_RANK]\n",
      "                [--entity ENTITY] [--upload_dataset [UPLOAD_DATASET]]\n",
      "                [--bbox_interval BBOX_INTERVAL]\n",
      "                [--artifact_alias ARTIFACT_ALIAS]\n",
      "train.py: error: unrecognized arguments: --../data\n"
     ]
    }
   ],
   "source": [
    "!python train.py --'../data' --weights yolov5s.pt --cache"
   ]
  },
  {
   "cell_type": "code",
   "execution_count": null,
   "id": "c967ef98-427d-4b4d-96e9-715731aadad5",
   "metadata": {},
   "outputs": [],
   "source": []
  }
 ],
 "metadata": {
  "kernelspec": {
   "display_name": "Python 3",
   "language": "python",
   "name": "python3"
  },
  "language_info": {
   "codemirror_mode": {
    "name": "ipython",
    "version": 3
   },
   "file_extension": ".py",
   "mimetype": "text/x-python",
   "name": "python",
   "nbconvert_exporter": "python",
   "pygments_lexer": "ipython3",
   "version": "3.8.8"
  }
 },
 "nbformat": 4,
 "nbformat_minor": 5
}
