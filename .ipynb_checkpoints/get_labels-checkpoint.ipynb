{
 "cells": [
  {
   "cell_type": "code",
   "execution_count": 1,
   "id": "6ed5bd88-273d-49b4-af7f-900a3876ad11",
   "metadata": {
    "tags": []
   },
   "outputs": [],
   "source": [
    "import pandas as pd\n",
    "import os\n",
    "import cv2\n",
    "import shutil\n",
    "import glob\n",
    "from os import listdir\n",
    "\n",
    "train = pd.read_csv('train.csv')"
   ]
  },
  {
   "cell_type": "code",
   "execution_count": 2,
   "id": "adca2976-d4fb-42dd-b988-0dcf7758913f",
   "metadata": {},
   "outputs": [],
   "source": [
    "path = os.getcwd()"
   ]
  },
  {
   "cell_type": "code",
   "execution_count": 3,
   "id": "d23f1185-f473-45c6-b720-59cf94c12ef6",
   "metadata": {},
   "outputs": [
    {
     "data": {
      "text/plain": [
       "'/Users/jackpeele/Documents/Data Science/DS 6050/final_project/dolphin_whale_classification'"
      ]
     },
     "execution_count": 3,
     "metadata": {},
     "output_type": "execute_result"
    }
   ],
   "source": [
    "path"
   ]
  },
  {
   "cell_type": "code",
   "execution_count": 4,
   "id": "40d3e74a-1e3e-44b1-b27b-404a2666d23f",
   "metadata": {
    "tags": []
   },
   "outputs": [],
   "source": [
    " # get the path/directory\n",
    "missing_count = 0\n",
    "src_dir = path + '/yolov5/runs/detect/yolo_fin_det/crops/fin'\n",
    "dolphin_dir = path + '/image_by_species/dolphins'\n",
    "whale_dir = path + '/image_by_species/whales'\n",
    "for jpgfile in glob.iglob(os.path.join(src_dir, \"*.jpg\")):\n",
    "    image = os.path.basename(jpgfile)\n",
    "    try:\n",
    "#         print(image)\n",
    "        whale_matches = ['whale', 'beluga', 'glois']\n",
    "        classification = train[train.image == image].species.tolist()[0]\n",
    "        if any(x in classification for x in whale_matches):\n",
    "            shutil.copy(jpgfile, whale_dir)\n",
    "        else:\n",
    "            shutil.copy(jpgfile, dolphin_dir)\n",
    "    except: # account for images with multiple boxes\n",
    "        try:\n",
    "            image = image[:-5] + '.jpg'\n",
    "    #         print(image)\n",
    "            whale_matches = ['whale', 'beluga', 'glois']\n",
    "            classification = train[train.image == image].species.tolist()[0]\n",
    "            if any(x in classification for x in whale_matches):\n",
    "                shutil.copy(jpgfile, whale_dir)\n",
    "            else:\n",
    "                shutil.copy(jpgfile, dolphin_dir)\n",
    "        except:\n",
    "            print('no match: ' + image)\n",
    "            missing_count = missing_count + 1"
   ]
  },
  {
   "cell_type": "code",
   "execution_count": 5,
   "id": "1b347a5e-ca67-4454-a691-670db9358bf8",
   "metadata": {},
   "outputs": [
    {
     "data": {
      "text/plain": [
       "0"
      ]
     },
     "execution_count": 5,
     "metadata": {},
     "output_type": "execute_result"
    }
   ],
   "source": [
    "missing_count"
   ]
  },
  {
   "cell_type": "code",
   "execution_count": 1,
   "id": "d48b096b-b558-4de9-bebd-09f2b5f0870e",
   "metadata": {},
   "outputs": [],
   "source": [
    "test = '7edd521e03b2f2.jpg'"
   ]
  },
  {
   "cell_type": "code",
   "execution_count": 3,
   "id": "75c43813-4d44-473e-8c30-5801a260f72e",
   "metadata": {},
   "outputs": [
    {
     "data": {
      "text/plain": [
       "'7edd521e03b2f.jpg'"
      ]
     },
     "execution_count": 3,
     "metadata": {},
     "output_type": "execute_result"
    }
   ],
   "source": [
    "test[:-5] + '.jpg'"
   ]
  },
  {
   "cell_type": "code",
   "execution_count": null,
   "id": "2e4a0496-0005-4a30-b05d-3568829cbe5a",
   "metadata": {},
   "outputs": [],
   "source": []
  }
 ],
 "metadata": {
  "kernelspec": {
   "display_name": "Python 3",
   "language": "python",
   "name": "python3"
  },
  "language_info": {
   "codemirror_mode": {
    "name": "ipython",
    "version": 3
   },
   "file_extension": ".py",
   "mimetype": "text/x-python",
   "name": "python",
   "nbconvert_exporter": "python",
   "pygments_lexer": "ipython3",
   "version": "3.8.8"
  }
 },
 "nbformat": 4,
 "nbformat_minor": 5
}
